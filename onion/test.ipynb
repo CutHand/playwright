{
 "cells": [
  {
   "cell_type": "code",
   "execution_count": 3,
   "metadata": {},
   "outputs": [],
   "source": [
    "import logging\n",
    "\n",
    "# 配置日志记录\n",
    "logging.basicConfig(filename='example.log', level=logging.DEBUG,\n",
    "                    format='%(asctime)s - %(name)s - %(levelname)s - %(message)s')\n",
    "\n",
    "# 示例日志记录\n",
    "logging.debug('这是一个调试信息')\n",
    "logging.info('这是一个信息')\n",
    "logging.warning('这是一个警告')\n",
    "logging.error('这是一个错误')\n",
    "logging.critical('这是一个严重错误')\n"
   ]
  },
  {
   "cell_type": "code",
   "execution_count": 17,
   "metadata": {},
   "outputs": [
    {
     "name": "stdout",
     "output_type": "stream",
     "text": [
      "N_m3u8DL-CLI version 3.0.2 2018-2022\n",
      "  built date: 20220711\n",
      "\n",
      "\n",
      "                                                              \n",
      "14:10:39.816 文件名称：high_ef78e40b-85a9-4006-9d21-5d1a00115f3f_20231102141039\n",
      "\n",
      "                                           \n",
      "                   \n",
      "14:10:39.816 存储路径：C:\\Users\\Administrator\\Desktop\\demo_play\n",
      "\n",
      "                      \n",
      "                                        \n",
      "14:10:39.820 开始解析  https://hls.media.yangcong345.com/high/high_ef78e40b-85a9-4006-9d21-5d1a00115f3f.m3u8\n",
      "\n",
      "                                                              \n",
      "14:10:40.091 获取m3u8 key...\n",
      "\n",
      "                                                              \n",
      "14:10:40.121 写出meta.json\n",
      "\n",
      "                                        \n",
      "                      \n",
      "14:10:40.208 文件时长：05m14s\n",
      "\n",
      "                                                         \n",
      "     \n",
      "14:10:40.209 总分片：32, 已选择分片：32\n",
      "\n",
      "                                  \n",
      "                            \n",
      "14:10:40.218 开始下载文件\n",
      "\n",
      "                                                 \n",
      "             \n",
      "14:10:40.220 下载首分片...\n",
      "\n",
      "                                                              \n",
      "14:10:40.406 Base-64 字符数组或字符串的长度无效。\n",
      "\n",
      "14:10:41.000  (1.08 MB/s)                                    \n",
      "\n",
      "14:10:42.000  (0 bytes/s)                                    \n",
      "\n",
      "14:10:43.000  (0 bytes/s)                                    \n"
     ]
    }
   ],
   "source": [
    "output_bytes = b'''N_m3u8DL-CLI version 3.0.2 2018-2022\\n  built date: 20220711\\n\\n\\n                                                              \\n14:10:39.816 \\xce\\xc4\\xbc\\xfe\\xc3\\xfb\\xb3\\xc6\\xa3\\xbahigh_ef78e40b-85a9-4006-9d21-5d1a00115f3f_20231102141039\\n\\n                                           \n",
    "                   \\n14:10:39.816 \\xb4\\xe6\\xb4\\xa2\\xc2\\xb7\\xbe\\xb6\\xa3\\xbaC:\\\\Users\\\\Administrator\\\\Desktop\\\\demo_play\\n\\n                      \n",
    "                                        \\n14:10:39.820 \\xbf\\xaa\\xca\\xbc\\xbd\\xe2\\xce\\xf6  https://hls.media.yangcong345.com/high/high_ef78e40b-85a9-4006-9d21-5d1a00115f3f.m3u8\\n\\n                                                              \\n14:10:40.091 \\xbb\\xf1\\xc8\\xa1m3u8 key...\\n\\n                                                              \\n14:10:40.121 \\xd0\\xb4\\xb3\\xf6meta.json\\n\\n                                        \n",
    "                      \\n14:10:40.208 \\xce\\xc4\\xbc\\xfe\\xca\\xb1\\xb3\\xa4\\xa3\\xba05m14s\\n\\n                                                         \n",
    "     \\n14:10:40.209 \\xd7\\xdc\\xb7\\xd6\\xc6\\xac\\xa3\\xba32, \\xd2\\xd1\\xd1\\xa1\\xd4\\xf1\\xb7\\xd6\\xc6\\xac\\xa3\\xba32\\n\\n                                  \n",
    "                            \\n14:10:40.218 \\xbf\\xaa\\xca\\xbc\\xcf\\xc2\\xd4\\xd8\\xce\\xc4\\xbc\\xfe\\n\\n                                                 \n",
    "             \\n14:10:40.220 \\xcf\\xc2\\xd4\\xd8\\xca\\xd7\\xb7\\xd6\\xc6\\xac...\\n\\n                                                              \\n14:10:40.406 Base-64 \\xd7\\xd6\\xb7\\xfb\\xca\\xfd\\xd7\\xe9\\xbb\\xf2\\xd7\\xd6\\xb7\\xfb\\xb4\\xae\\xb5\\xc4\\xb3\\xa4\\xb6\\xc8\\xce\\xde\\xd0\\xa7\\xa1\\xa3\\n\\n14:10:41.000  (1.08 MB/s)                                    \\n\\n14:10:42.000  (0 bytes/s)                                    \\n\\n14:10:43.000  (0 bytes/s)                                    '''\n",
    "output_string = output_bytes.decode('gbk')\n",
    "\n",
    "print(output_string)"
   ]
  },
  {
   "cell_type": "code",
   "execution_count": 7,
   "metadata": {},
   "outputs": [
    {
     "data": {
      "text/plain": [
       "'c:\\\\Users\\\\Administrator\\\\Desktop\\\\demo_play'"
      ]
     },
     "execution_count": 7,
     "metadata": {},
     "output_type": "execute_result"
    }
   ],
   "source": [
    "current_path = os.getcwd()\n",
    "full_path = os.path.abspath(current_path)\n",
    "\n",
    "\n",
    "full_path"
   ]
  },
  {
   "cell_type": "code",
   "execution_count": 18,
   "metadata": {},
   "outputs": [
    {
     "ename": "UnicodeDecodeError",
     "evalue": "'utf-8' codec can't decode byte 0xce in position 141: invalid continuation byte",
     "output_type": "error",
     "traceback": [
      "\u001b[1;31m---------------------------------------------------------------------------\u001b[0m",
      "\u001b[1;31mUnicodeDecodeError\u001b[0m                        Traceback (most recent call last)",
      "\u001b[1;32mc:\\Users\\Administrator\\Desktop\\demo_play\\test.ipynb 单元格 4\u001b[0m line \u001b[0;36m4\n\u001b[0;32m      <a href='vscode-notebook-cell:/c%3A/Users/Administrator/Desktop/demo_play/test.ipynb#W2sZmlsZQ%3D%3D?line=0'>1</a>\u001b[0m \u001b[39mimport\u001b[39;00m \u001b[39mos\u001b[39;00m\n\u001b[0;32m      <a href='vscode-notebook-cell:/c%3A/Users/Administrator/Desktop/demo_play/test.ipynb#W2sZmlsZQ%3D%3D?line=1'>2</a>\u001b[0m \u001b[39mimport\u001b[39;00m \u001b[39msubprocess\u001b[39;00m\n\u001b[1;32m----> <a href='vscode-notebook-cell:/c%3A/Users/Administrator/Desktop/demo_play/test.ipynb#W2sZmlsZQ%3D%3D?line=3'>4</a>\u001b[0m output \u001b[39m=\u001b[39m subprocess\u001b[39m.\u001b[39;49mgetoutput(\u001b[39mrf\u001b[39;49m\u001b[39m'\u001b[39;49m\u001b[39mm3u8dl.exe \u001b[39;49m\u001b[39m\"\u001b[39;49m\u001b[39mhttps://hls.media.yangcong345.com/high/high_ef78e40b-85a9-4006-9d21-5d1a00115f3f.m3u8\u001b[39;49m\u001b[39m\"\u001b[39;49m\u001b[39m --workDir \u001b[39;49m\u001b[39m\"\u001b[39;49m\u001b[39m{\u001b[39;49;00mos\u001b[39m.\u001b[39;49mgetcwd()\u001b[39m}\u001b[39;49;00m\u001b[39m\"\u001b[39;49m\u001b[39m  --useKeyBase64 \u001b[39;49m\u001b[39m\"\u001b[39;49m\u001b[39m==\u001b[39;49m\u001b[39m\"\u001b[39;49m\u001b[39m --enableDelAfterDone --headers \u001b[39;49m\u001b[39m\"\u001b[39;49m\u001b[39mReferer:https://hls.media.yangcong345.com/high/\u001b[39;49m\u001b[39m\"\u001b[39;49m\u001b[39m \u001b[39;49m\u001b[39m'\u001b[39;49m)\n\u001b[0;32m      <a href='vscode-notebook-cell:/c%3A/Users/Administrator/Desktop/demo_play/test.ipynb#W2sZmlsZQ%3D%3D?line=4'>5</a>\u001b[0m output_string \u001b[39m=\u001b[39m output\u001b[39m.\u001b[39mencode(\u001b[39m'\u001b[39m\u001b[39mutf-8\u001b[39m\u001b[39m'\u001b[39m)\n\u001b[0;32m      <a href='vscode-notebook-cell:/c%3A/Users/Administrator/Desktop/demo_play/test.ipynb#W2sZmlsZQ%3D%3D?line=5'>6</a>\u001b[0m output_string_decode \u001b[39m=\u001b[39m output_string\u001b[39m.\u001b[39mdecode(\u001b[39m'\u001b[39m\u001b[39mgbk\u001b[39m\u001b[39m'\u001b[39m)\n",
      "File \u001b[1;32mc:\\app\\miniconda3\\envs\\pl\\lib\\subprocess.py:645\u001b[0m, in \u001b[0;36mgetoutput\u001b[1;34m(cmd)\u001b[0m\n\u001b[0;32m    635\u001b[0m \u001b[39mdef\u001b[39;00m \u001b[39mgetoutput\u001b[39m(cmd):\n\u001b[0;32m    636\u001b[0m \u001b[39m    \u001b[39m\u001b[39m\"\"\"Return output (stdout or stderr) of executing cmd in a shell.\u001b[39;00m\n\u001b[0;32m    637\u001b[0m \n\u001b[0;32m    638\u001b[0m \u001b[39m    Like getstatusoutput(), except the exit status is ignored and the return\u001b[39;00m\n\u001b[1;32m   (...)\u001b[0m\n\u001b[0;32m    643\u001b[0m \u001b[39m    '/bin/ls'\u001b[39;00m\n\u001b[0;32m    644\u001b[0m \u001b[39m    \"\"\"\u001b[39;00m\n\u001b[1;32m--> 645\u001b[0m     \u001b[39mreturn\u001b[39;00m getstatusoutput(cmd)[\u001b[39m1\u001b[39m]\n",
      "File \u001b[1;32mc:\\app\\miniconda3\\envs\\pl\\lib\\subprocess.py:626\u001b[0m, in \u001b[0;36mgetstatusoutput\u001b[1;34m(cmd)\u001b[0m\n\u001b[0;32m    605\u001b[0m \u001b[39m\u001b[39m\u001b[39m\"\"\"Return (exitcode, output) of executing cmd in a shell.\u001b[39;00m\n\u001b[0;32m    606\u001b[0m \n\u001b[0;32m    607\u001b[0m \u001b[39mExecute the string 'cmd' in a shell with 'check_output' and\u001b[39;00m\n\u001b[1;32m   (...)\u001b[0m\n\u001b[0;32m    623\u001b[0m \u001b[39m(-15, '')\u001b[39;00m\n\u001b[0;32m    624\u001b[0m \u001b[39m\"\"\"\u001b[39;00m\n\u001b[0;32m    625\u001b[0m \u001b[39mtry\u001b[39;00m:\n\u001b[1;32m--> 626\u001b[0m     data \u001b[39m=\u001b[39m check_output(cmd, shell\u001b[39m=\u001b[39;49m\u001b[39mTrue\u001b[39;49;00m, text\u001b[39m=\u001b[39;49m\u001b[39mTrue\u001b[39;49;00m, stderr\u001b[39m=\u001b[39;49mSTDOUT)\n\u001b[0;32m    627\u001b[0m     exitcode \u001b[39m=\u001b[39m \u001b[39m0\u001b[39m\n\u001b[0;32m    628\u001b[0m \u001b[39mexcept\u001b[39;00m CalledProcessError \u001b[39mas\u001b[39;00m ex:\n",
      "File \u001b[1;32mc:\\app\\miniconda3\\envs\\pl\\lib\\subprocess.py:421\u001b[0m, in \u001b[0;36mcheck_output\u001b[1;34m(timeout, *popenargs, **kwargs)\u001b[0m\n\u001b[0;32m    418\u001b[0m         empty \u001b[39m=\u001b[39m \u001b[39mb\u001b[39m\u001b[39m'\u001b[39m\u001b[39m'\u001b[39m\n\u001b[0;32m    419\u001b[0m     kwargs[\u001b[39m'\u001b[39m\u001b[39minput\u001b[39m\u001b[39m'\u001b[39m] \u001b[39m=\u001b[39m empty\n\u001b[1;32m--> 421\u001b[0m \u001b[39mreturn\u001b[39;00m run(\u001b[39m*\u001b[39mpopenargs, stdout\u001b[39m=\u001b[39mPIPE, timeout\u001b[39m=\u001b[39mtimeout, check\u001b[39m=\u001b[39m\u001b[39mTrue\u001b[39;00m,\n\u001b[0;32m    422\u001b[0m            \u001b[39m*\u001b[39m\u001b[39m*\u001b[39mkwargs)\u001b[39m.\u001b[39mstdout\n",
      "File \u001b[1;32mc:\\app\\miniconda3\\envs\\pl\\lib\\subprocess.py:505\u001b[0m, in \u001b[0;36mrun\u001b[1;34m(input, capture_output, timeout, check, *popenargs, **kwargs)\u001b[0m\n\u001b[0;32m    503\u001b[0m \u001b[39mwith\u001b[39;00m Popen(\u001b[39m*\u001b[39mpopenargs, \u001b[39m*\u001b[39m\u001b[39m*\u001b[39mkwargs) \u001b[39mas\u001b[39;00m process:\n\u001b[0;32m    504\u001b[0m     \u001b[39mtry\u001b[39;00m:\n\u001b[1;32m--> 505\u001b[0m         stdout, stderr \u001b[39m=\u001b[39m process\u001b[39m.\u001b[39;49mcommunicate(\u001b[39minput\u001b[39;49m, timeout\u001b[39m=\u001b[39;49mtimeout)\n\u001b[0;32m    506\u001b[0m     \u001b[39mexcept\u001b[39;00m TimeoutExpired \u001b[39mas\u001b[39;00m exc:\n\u001b[0;32m    507\u001b[0m         process\u001b[39m.\u001b[39mkill()\n",
      "File \u001b[1;32mc:\\app\\miniconda3\\envs\\pl\\lib\\subprocess.py:1141\u001b[0m, in \u001b[0;36mPopen.communicate\u001b[1;34m(self, input, timeout)\u001b[0m\n\u001b[0;32m   1139\u001b[0m     \u001b[39mself\u001b[39m\u001b[39m.\u001b[39m_stdin_write(\u001b[39minput\u001b[39m)\n\u001b[0;32m   1140\u001b[0m \u001b[39melif\u001b[39;00m \u001b[39mself\u001b[39m\u001b[39m.\u001b[39mstdout:\n\u001b[1;32m-> 1141\u001b[0m     stdout \u001b[39m=\u001b[39m \u001b[39mself\u001b[39;49m\u001b[39m.\u001b[39;49mstdout\u001b[39m.\u001b[39;49mread()\n\u001b[0;32m   1142\u001b[0m     \u001b[39mself\u001b[39m\u001b[39m.\u001b[39mstdout\u001b[39m.\u001b[39mclose()\n\u001b[0;32m   1143\u001b[0m \u001b[39melif\u001b[39;00m \u001b[39mself\u001b[39m\u001b[39m.\u001b[39mstderr:\n",
      "File \u001b[1;32mc:\\app\\miniconda3\\envs\\pl\\lib\\codecs.py:322\u001b[0m, in \u001b[0;36mBufferedIncrementalDecoder.decode\u001b[1;34m(self, input, final)\u001b[0m\n\u001b[0;32m    319\u001b[0m \u001b[39mdef\u001b[39;00m \u001b[39mdecode\u001b[39m(\u001b[39mself\u001b[39m, \u001b[39minput\u001b[39m, final\u001b[39m=\u001b[39m\u001b[39mFalse\u001b[39;00m):\n\u001b[0;32m    320\u001b[0m     \u001b[39m# decode input (taking the buffer into account)\u001b[39;00m\n\u001b[0;32m    321\u001b[0m     data \u001b[39m=\u001b[39m \u001b[39mself\u001b[39m\u001b[39m.\u001b[39mbuffer \u001b[39m+\u001b[39m \u001b[39minput\u001b[39m\n\u001b[1;32m--> 322\u001b[0m     (result, consumed) \u001b[39m=\u001b[39m \u001b[39mself\u001b[39;49m\u001b[39m.\u001b[39;49m_buffer_decode(data, \u001b[39mself\u001b[39;49m\u001b[39m.\u001b[39;49merrors, final)\n\u001b[0;32m    323\u001b[0m     \u001b[39m# keep undecoded input until the next call\u001b[39;00m\n\u001b[0;32m    324\u001b[0m     \u001b[39mself\u001b[39m\u001b[39m.\u001b[39mbuffer \u001b[39m=\u001b[39m data[consumed:]\n",
      "\u001b[1;31mUnicodeDecodeError\u001b[0m: 'utf-8' codec can't decode byte 0xce in position 141: invalid continuation byte"
     ]
    }
   ],
   "source": [
    "import os\n",
    "import subprocess\n",
    "\n",
    "output = subprocess.getoutput(rf'm3u8dl.exe \"https://hls.media.yangcong345.com/high/high_ef78e40b-85a9-4006-9d21-5d1a00115f3f.m3u8\" --workDir \"{os.getcwd()}\"  --useKeyBase64 \"==\" --enableDelAfterDone --headers \"Referer:https://hls.media.yangcong345.com/high/\" ')\n",
    "output_string = output.encode('utf-8')\n",
    "output_string_decode = output_string.decode('gbk')\n",
    "print(output_string_decode)"
   ]
  },
  {
   "cell_type": "code",
   "execution_count": 35,
   "metadata": {},
   "outputs": [
    {
     "data": {
      "text/plain": [
       "'contains(text(),\"分数王国小数王国\")'"
      ]
     },
     "execution_count": 35,
     "metadata": {},
     "output_type": "execute_result"
    }
   ],
   "source": [
    "import re\n",
    "\n",
    "def delete_quotes(str):\n",
    "    res_list = re.sub(r'(\"|”|“)',' ',str).strip().split()\n",
    "    if len(res_list) == 1:\n",
    "        return f'contains(text(),\"{res_list[0]}\")'\n",
    "    res_str = f'contains(text(),\"{res_list.pop(0)}\") '\n",
    "    for res in res_list:\n",
    "        res_str = f'{res_str}and contains(text(),\"{res}\") '\n",
    "    return res_str\n",
    "\n",
    "\n",
    "delete_quotes('分数王国小数王国')"
   ]
  },
  {
   "cell_type": "code",
   "execution_count": 28,
   "metadata": {},
   "outputs": [
    {
     "data": {
      "text/plain": [
       "[10, 11]"
      ]
     },
     "execution_count": 28,
     "metadata": {},
     "output_type": "execute_result"
    }
   ],
   "source": [
    "list(range(12)[10:])"
   ]
  },
  {
   "cell_type": "code",
   "execution_count": 31,
   "metadata": {},
   "outputs": [
    {
     "data": {
      "text/plain": [
       "['asdas']"
      ]
     },
     "execution_count": 31,
     "metadata": {},
     "output_type": "execute_result"
    }
   ],
   "source": [
    "'asdas'.split()"
   ]
  },
  {
   "cell_type": "code",
   "execution_count": 36,
   "metadata": {},
   "outputs": [
    {
     "data": {
      "text/plain": [
       "[2]"
      ]
     },
     "execution_count": 36,
     "metadata": {},
     "output_type": "execute_result"
    }
   ],
   "source": [
    "[1,2][-1:]"
   ]
  },
  {
   "cell_type": "code",
   "execution_count": 6,
   "metadata": {},
   "outputs": [
    {
     "data": {
      "text/plain": [
       "['五年级下册', '1-分数加减法', '1.4 分数与小 数互化', '分数王国_与_小数王国']"
      ]
     },
     "execution_count": 6,
     "metadata": {},
     "output_type": "execute_result"
    }
   ],
   "source": [
    "import re\n",
    "def handle_name(list):\n",
    "    for index,item in enumerate(list):\n",
    "        list[index] = re.sub(r'(\"|”|“)','_',item).strip()\n",
    "        list[index] = re.sub(r'(^_|_$)','',list[index]).strip()\n",
    "    return list\n",
    "list = ['五年级下册','1-分数加减法','1.4 分数与小 数互化','“分数王国”与\"小数王国\"']\n",
    "handle_name(list)"
   ]
  },
  {
   "cell_type": "code",
   "execution_count": 14,
   "metadata": {},
   "outputs": [],
   "source": [
    "import os,shutil\n",
    "\n",
    "path = r'C:\\Users\\Administrator\\Desktop\\demo_play\\小学-数学-北师大版'\n",
    "for file_name in os.listdir(path):\n",
    "    full_file_path = os.path.join(path, file_name)\n",
    "    if os.path.isdir(full_file_path) and file_name != '一年级计算入门课':\n",
    "        for sub_file_name in os.listdir(full_file_path):\n",
    "            shutil.move(os.path.join(full_file_path,sub_file_name),os.path.join(full_file_path,'教材同步',sub_file_name))"
   ]
  },
  {
   "cell_type": "code",
   "execution_count": 13,
   "metadata": {},
   "outputs": [],
   "source": [
    "import os,shutil\n",
    "\n",
    "path = r'C:\\Users\\Administrator\\Desktop\\demo_play\\a'\n",
    "for file_name in os.listdir(path):\n",
    "    full_file_path = os.path.join(path, file_name)\n",
    "    if os.path.isdir(full_file_path) and file_name != '一年级计算入门课':\n",
    "        for sub_file_name in os.listdir(full_file_path):\n",
    "            shutil.move(os.path.join(full_file_path,sub_file_name),os.path.join(full_file_path,'教材同步',sub_file_name))"
   ]
  },
  {
   "cell_type": "code",
   "execution_count": 12,
   "metadata": {},
   "outputs": [
    {
     "name": "stdout",
     "output_type": "stream",
     "text": [
      "0\n"
     ]
    }
   ],
   "source": [
    "import os\n",
    "res = os.system(rf'm3u8dl.exe \"https://hls.media.yangcong345.com/high/high_ef78e40b-85a9-4006-9d21-5d1a00115f3f.m3u8\" --workDir \"{os.getcwd()}\"  --useKeyBase64 \"aVvCR44QtnlPjCuCcFUh8g==\" --enableDelAfterDone --headers \"Referer:https://hls.media.yangcong345.com/high/\" ')\n",
    "print(res)"
   ]
  },
  {
   "cell_type": "code",
   "execution_count": 14,
   "metadata": {},
   "outputs": [
    {
     "ename": "UnicodeDecodeError",
     "evalue": "'utf-8' codec can't decode byte 0xc7 in position 1: invalid continuation byte",
     "output_type": "error",
     "traceback": [
      "\u001b[1;31m---------------------------------------------------------------------------\u001b[0m",
      "\u001b[1;31mUnicodeDecodeError\u001b[0m                        Traceback (most recent call last)",
      "\u001b[1;32mc:\\Users\\Administrator\\Desktop\\demo_play\\test.ipynb 单元格 12\u001b[0m line \u001b[0;36m4\n\u001b[0;32m      <a href='vscode-notebook-cell:/c%3A/Users/Administrator/Desktop/demo_play/test.ipynb#X15sZmlsZQ%3D%3D?line=0'>1</a>\u001b[0m \u001b[39mimport\u001b[39;00m \u001b[39msubprocess\u001b[39;00m\n\u001b[0;32m      <a href='vscode-notebook-cell:/c%3A/Users/Administrator/Desktop/demo_play/test.ipynb#X15sZmlsZQ%3D%3D?line=2'>3</a>\u001b[0m \u001b[39m# 执行命令并捕获输出\u001b[39;00m\n\u001b[1;32m----> <a href='vscode-notebook-cell:/c%3A/Users/Administrator/Desktop/demo_play/test.ipynb#X15sZmlsZQ%3D%3D?line=3'>4</a>\u001b[0m output \u001b[39m=\u001b[39m subprocess\u001b[39m.\u001b[39;49mgetoutput(\u001b[39m'\u001b[39;49m\u001b[39mdir\u001b[39;49m\u001b[39m'\u001b[39;49m)\u001b[39m.\u001b[39mencode(\u001b[39m'\u001b[39m\u001b[39mutf-8\u001b[39m\u001b[39m'\u001b[39m, errors\u001b[39m=\u001b[39m\u001b[39m'\u001b[39m\u001b[39mignore\u001b[39m\u001b[39m'\u001b[39m)  \u001b[39m# 以Unix系统为例\u001b[39;00m\n\u001b[0;32m      <a href='vscode-notebook-cell:/c%3A/Users/Administrator/Desktop/demo_play/test.ipynb#X15sZmlsZQ%3D%3D?line=5'>6</a>\u001b[0m \u001b[39m# 打印输出\u001b[39;00m\n\u001b[0;32m      <a href='vscode-notebook-cell:/c%3A/Users/Administrator/Desktop/demo_play/test.ipynb#X15sZmlsZQ%3D%3D?line=6'>7</a>\u001b[0m \u001b[39mprint\u001b[39m(output)\n",
      "File \u001b[1;32mc:\\app\\miniconda3\\envs\\pl\\lib\\subprocess.py:645\u001b[0m, in \u001b[0;36mgetoutput\u001b[1;34m(cmd)\u001b[0m\n\u001b[0;32m    635\u001b[0m \u001b[39mdef\u001b[39;00m \u001b[39mgetoutput\u001b[39m(cmd):\n\u001b[0;32m    636\u001b[0m \u001b[39m    \u001b[39m\u001b[39m\"\"\"Return output (stdout or stderr) of executing cmd in a shell.\u001b[39;00m\n\u001b[0;32m    637\u001b[0m \n\u001b[0;32m    638\u001b[0m \u001b[39m    Like getstatusoutput(), except the exit status is ignored and the return\u001b[39;00m\n\u001b[1;32m   (...)\u001b[0m\n\u001b[0;32m    643\u001b[0m \u001b[39m    '/bin/ls'\u001b[39;00m\n\u001b[0;32m    644\u001b[0m \u001b[39m    \"\"\"\u001b[39;00m\n\u001b[1;32m--> 645\u001b[0m     \u001b[39mreturn\u001b[39;00m getstatusoutput(cmd)[\u001b[39m1\u001b[39m]\n",
      "File \u001b[1;32mc:\\app\\miniconda3\\envs\\pl\\lib\\subprocess.py:626\u001b[0m, in \u001b[0;36mgetstatusoutput\u001b[1;34m(cmd)\u001b[0m\n\u001b[0;32m    605\u001b[0m \u001b[39m\u001b[39m\u001b[39m\"\"\"Return (exitcode, output) of executing cmd in a shell.\u001b[39;00m\n\u001b[0;32m    606\u001b[0m \n\u001b[0;32m    607\u001b[0m \u001b[39mExecute the string 'cmd' in a shell with 'check_output' and\u001b[39;00m\n\u001b[1;32m   (...)\u001b[0m\n\u001b[0;32m    623\u001b[0m \u001b[39m(-15, '')\u001b[39;00m\n\u001b[0;32m    624\u001b[0m \u001b[39m\"\"\"\u001b[39;00m\n\u001b[0;32m    625\u001b[0m \u001b[39mtry\u001b[39;00m:\n\u001b[1;32m--> 626\u001b[0m     data \u001b[39m=\u001b[39m check_output(cmd, shell\u001b[39m=\u001b[39;49m\u001b[39mTrue\u001b[39;49;00m, text\u001b[39m=\u001b[39;49m\u001b[39mTrue\u001b[39;49;00m, stderr\u001b[39m=\u001b[39;49mSTDOUT)\n\u001b[0;32m    627\u001b[0m     exitcode \u001b[39m=\u001b[39m \u001b[39m0\u001b[39m\n\u001b[0;32m    628\u001b[0m \u001b[39mexcept\u001b[39;00m CalledProcessError \u001b[39mas\u001b[39;00m ex:\n",
      "File \u001b[1;32mc:\\app\\miniconda3\\envs\\pl\\lib\\subprocess.py:421\u001b[0m, in \u001b[0;36mcheck_output\u001b[1;34m(timeout, *popenargs, **kwargs)\u001b[0m\n\u001b[0;32m    418\u001b[0m         empty \u001b[39m=\u001b[39m \u001b[39mb\u001b[39m\u001b[39m'\u001b[39m\u001b[39m'\u001b[39m\n\u001b[0;32m    419\u001b[0m     kwargs[\u001b[39m'\u001b[39m\u001b[39minput\u001b[39m\u001b[39m'\u001b[39m] \u001b[39m=\u001b[39m empty\n\u001b[1;32m--> 421\u001b[0m \u001b[39mreturn\u001b[39;00m run(\u001b[39m*\u001b[39mpopenargs, stdout\u001b[39m=\u001b[39mPIPE, timeout\u001b[39m=\u001b[39mtimeout, check\u001b[39m=\u001b[39m\u001b[39mTrue\u001b[39;00m,\n\u001b[0;32m    422\u001b[0m            \u001b[39m*\u001b[39m\u001b[39m*\u001b[39mkwargs)\u001b[39m.\u001b[39mstdout\n",
      "File \u001b[1;32mc:\\app\\miniconda3\\envs\\pl\\lib\\subprocess.py:505\u001b[0m, in \u001b[0;36mrun\u001b[1;34m(input, capture_output, timeout, check, *popenargs, **kwargs)\u001b[0m\n\u001b[0;32m    503\u001b[0m \u001b[39mwith\u001b[39;00m Popen(\u001b[39m*\u001b[39mpopenargs, \u001b[39m*\u001b[39m\u001b[39m*\u001b[39mkwargs) \u001b[39mas\u001b[39;00m process:\n\u001b[0;32m    504\u001b[0m     \u001b[39mtry\u001b[39;00m:\n\u001b[1;32m--> 505\u001b[0m         stdout, stderr \u001b[39m=\u001b[39m process\u001b[39m.\u001b[39;49mcommunicate(\u001b[39minput\u001b[39;49m, timeout\u001b[39m=\u001b[39;49mtimeout)\n\u001b[0;32m    506\u001b[0m     \u001b[39mexcept\u001b[39;00m TimeoutExpired \u001b[39mas\u001b[39;00m exc:\n\u001b[0;32m    507\u001b[0m         process\u001b[39m.\u001b[39mkill()\n",
      "File \u001b[1;32mc:\\app\\miniconda3\\envs\\pl\\lib\\subprocess.py:1141\u001b[0m, in \u001b[0;36mPopen.communicate\u001b[1;34m(self, input, timeout)\u001b[0m\n\u001b[0;32m   1139\u001b[0m     \u001b[39mself\u001b[39m\u001b[39m.\u001b[39m_stdin_write(\u001b[39minput\u001b[39m)\n\u001b[0;32m   1140\u001b[0m \u001b[39melif\u001b[39;00m \u001b[39mself\u001b[39m\u001b[39m.\u001b[39mstdout:\n\u001b[1;32m-> 1141\u001b[0m     stdout \u001b[39m=\u001b[39m \u001b[39mself\u001b[39;49m\u001b[39m.\u001b[39;49mstdout\u001b[39m.\u001b[39;49mread()\n\u001b[0;32m   1142\u001b[0m     \u001b[39mself\u001b[39m\u001b[39m.\u001b[39mstdout\u001b[39m.\u001b[39mclose()\n\u001b[0;32m   1143\u001b[0m \u001b[39melif\u001b[39;00m \u001b[39mself\u001b[39m\u001b[39m.\u001b[39mstderr:\n",
      "File \u001b[1;32mc:\\app\\miniconda3\\envs\\pl\\lib\\codecs.py:322\u001b[0m, in \u001b[0;36mBufferedIncrementalDecoder.decode\u001b[1;34m(self, input, final)\u001b[0m\n\u001b[0;32m    319\u001b[0m \u001b[39mdef\u001b[39;00m \u001b[39mdecode\u001b[39m(\u001b[39mself\u001b[39m, \u001b[39minput\u001b[39m, final\u001b[39m=\u001b[39m\u001b[39mFalse\u001b[39;00m):\n\u001b[0;32m    320\u001b[0m     \u001b[39m# decode input (taking the buffer into account)\u001b[39;00m\n\u001b[0;32m    321\u001b[0m     data \u001b[39m=\u001b[39m \u001b[39mself\u001b[39m\u001b[39m.\u001b[39mbuffer \u001b[39m+\u001b[39m \u001b[39minput\u001b[39m\n\u001b[1;32m--> 322\u001b[0m     (result, consumed) \u001b[39m=\u001b[39m \u001b[39mself\u001b[39;49m\u001b[39m.\u001b[39;49m_buffer_decode(data, \u001b[39mself\u001b[39;49m\u001b[39m.\u001b[39;49merrors, final)\n\u001b[0;32m    323\u001b[0m     \u001b[39m# keep undecoded input until the next call\u001b[39;00m\n\u001b[0;32m    324\u001b[0m     \u001b[39mself\u001b[39m\u001b[39m.\u001b[39mbuffer \u001b[39m=\u001b[39m data[consumed:]\n",
      "\u001b[1;31mUnicodeDecodeError\u001b[0m: 'utf-8' codec can't decode byte 0xc7 in position 1: invalid continuation byte"
     ]
    }
   ],
   "source": [
    "import subprocess\n",
    "\n",
    "# 执行命令并捕获输出\n",
    "output = subprocess.getoutput('dir').encode('utf-8', errors='ignore')  # 以Unix系统为例\n",
    "\n",
    "# 打印输出\n",
    "print(output)"
   ]
  }
 ],
 "metadata": {
  "kernelspec": {
   "display_name": "pl",
   "language": "python",
   "name": "python3"
  },
  "language_info": {
   "codemirror_mode": {
    "name": "ipython",
    "version": 3
   },
   "file_extension": ".py",
   "mimetype": "text/x-python",
   "name": "python",
   "nbconvert_exporter": "python",
   "pygments_lexer": "ipython3",
   "version": "3.10.13"
  }
 },
 "nbformat": 4,
 "nbformat_minor": 2
}
