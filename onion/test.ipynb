{
 "cells": [
  {
   "cell_type": "code",
   "execution_count": 1,
   "metadata": {},
   "outputs": [],
   "source": [
    "import logging\n",
    "\n",
    "# 配置日志记录\n",
    "logging.basicConfig(filename='example.log', level=logging.DEBUG,\n",
    "                    format='%(asctime)s - %(name)s - %(levelname)s - %(message)s')\n",
    "\n",
    "# 示例日志记录\n",
    "logging.debug('这是一个调试信息')\n",
    "logging.info('这是一个信息')\n",
    "logging.warning('这是一个警告')\n",
    "logging.error('这是一个错误')\n",
    "logging.critical('这是一个严重错误')\n"
   ]
  },
  {
   "cell_type": "code",
   "execution_count": 4,
   "metadata": {},
   "outputs": [
    {
     "name": "stdout",
     "output_type": "stream",
     "text": [
      "My password is: liuchang17\n",
      "My account is: 15316310863\n"
     ]
    }
   ],
   "source": [
    "import configparser\n",
    "\n",
    "# 读取配置文件\n",
    "config = configparser.ConfigParser()\n",
    "config.read('key.ini')\n",
    "\n",
    "# 获取密码\n",
    "password = config['Credentials']['password']\n",
    "account = config['Credentials']['account']\n",
    "\n",
    "# 使用密码进行操作，比如连接数据库等\n",
    "# 这里只是一个示例\n",
    "if password:\n",
    "    print(f\"My password is: {password}\")\n",
    "    print(f\"My account is: {account}\")\n",
    "else:\n",
    "    print(\"Password not found in the configuration file.\")\n"
   ]
  }
 ],
 "metadata": {
  "kernelspec": {
   "display_name": "pl",
   "language": "python",
   "name": "python3"
  },
  "language_info": {
   "codemirror_mode": {
    "name": "ipython",
    "version": 3
   },
   "file_extension": ".py",
   "mimetype": "text/x-python",
   "name": "python",
   "nbconvert_exporter": "python",
   "pygments_lexer": "ipython3",
   "version": "3.11.5"
  }
 },
 "nbformat": 4,
 "nbformat_minor": 2
}
